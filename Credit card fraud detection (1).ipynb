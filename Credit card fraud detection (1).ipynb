{
 "cells": [
  {
   "cell_type": "markdown",
   "id": "fe8a6440",
   "metadata": {},
   "source": [
    " # <font color=purple>Credit card fraud detection</font>"
   ]
  },
  {
   "cell_type": "markdown",
   "id": "f9bf64b1",
   "metadata": {},
   "source": [
    "# <font color=green>Import Libraries</font>"
   ]
  },
  {
   "cell_type": "code",
   "execution_count": 1,
   "id": "571c7ee8",
   "metadata": {},
   "outputs": [],
   "source": [
    "import numpy as np\n",
    "import pandas as pd\n",
    "from sklearn.model_selection import train_test_split\n",
    "from sklearn.feature_extraction.text import TfidfVectorizer \n",
    "from sklearn.linear_model import LogisticRegression\n",
    "from sklearn.metrics import accuracy_score "
   ]
  },
  {
   "cell_type": "code",
   "execution_count": 2,
   "id": "593f2e02",
   "metadata": {},
   "outputs": [
    {
     "data": {
      "text/html": [
       "<div>\n",
       "<style scoped>\n",
       "    .dataframe tbody tr th:only-of-type {\n",
       "        vertical-align: middle;\n",
       "    }\n",
       "\n",
       "    .dataframe tbody tr th {\n",
       "        vertical-align: top;\n",
       "    }\n",
       "\n",
       "    .dataframe thead th {\n",
       "        text-align: right;\n",
       "    }\n",
       "</style>\n",
       "<table border=\"1\" class=\"dataframe\">\n",
       "  <thead>\n",
       "    <tr style=\"text-align: right;\">\n",
       "      <th></th>\n",
       "      <th>Unnamed: 0</th>\n",
       "      <th>trans_date_trans_time</th>\n",
       "      <th>cc_num</th>\n",
       "      <th>merchant</th>\n",
       "      <th>category</th>\n",
       "      <th>amt</th>\n",
       "      <th>first</th>\n",
       "      <th>last</th>\n",
       "      <th>gender</th>\n",
       "      <th>street</th>\n",
       "      <th>...</th>\n",
       "      <th>lat</th>\n",
       "      <th>long</th>\n",
       "      <th>city_pop</th>\n",
       "      <th>job</th>\n",
       "      <th>dob</th>\n",
       "      <th>trans_num</th>\n",
       "      <th>unix_time</th>\n",
       "      <th>merch_lat</th>\n",
       "      <th>merch_long</th>\n",
       "      <th>is_fraud</th>\n",
       "    </tr>\n",
       "  </thead>\n",
       "  <tbody>\n",
       "    <tr>\n",
       "      <th>0</th>\n",
       "      <td>0</td>\n",
       "      <td>2020-06-21 12:14:25</td>\n",
       "      <td>2291163933867244</td>\n",
       "      <td>fraud_Kirlin and Sons</td>\n",
       "      <td>personal_care</td>\n",
       "      <td>2.86</td>\n",
       "      <td>Jeff</td>\n",
       "      <td>Elliott</td>\n",
       "      <td>M</td>\n",
       "      <td>351 Darlene Green</td>\n",
       "      <td>...</td>\n",
       "      <td>33.9659</td>\n",
       "      <td>-80.9355</td>\n",
       "      <td>333497</td>\n",
       "      <td>Mechanical engineer</td>\n",
       "      <td>1968-03-19</td>\n",
       "      <td>2da90c7d74bd46a0caf3777415b3ebd3</td>\n",
       "      <td>1371816865</td>\n",
       "      <td>33.986391</td>\n",
       "      <td>-81.200714</td>\n",
       "      <td>0</td>\n",
       "    </tr>\n",
       "    <tr>\n",
       "      <th>1</th>\n",
       "      <td>1</td>\n",
       "      <td>2020-06-21 12:14:33</td>\n",
       "      <td>3573030041201292</td>\n",
       "      <td>fraud_Sporer-Keebler</td>\n",
       "      <td>personal_care</td>\n",
       "      <td>29.84</td>\n",
       "      <td>Joanne</td>\n",
       "      <td>Williams</td>\n",
       "      <td>F</td>\n",
       "      <td>3638 Marsh Union</td>\n",
       "      <td>...</td>\n",
       "      <td>40.3207</td>\n",
       "      <td>-110.4360</td>\n",
       "      <td>302</td>\n",
       "      <td>Sales professional, IT</td>\n",
       "      <td>1990-01-17</td>\n",
       "      <td>324cc204407e99f51b0d6ca0055005e7</td>\n",
       "      <td>1371816873</td>\n",
       "      <td>39.450498</td>\n",
       "      <td>-109.960431</td>\n",
       "      <td>0</td>\n",
       "    </tr>\n",
       "    <tr>\n",
       "      <th>2</th>\n",
       "      <td>2</td>\n",
       "      <td>2020-06-21 12:14:53</td>\n",
       "      <td>3598215285024754</td>\n",
       "      <td>fraud_Swaniawski, Nitzsche and Welch</td>\n",
       "      <td>health_fitness</td>\n",
       "      <td>41.28</td>\n",
       "      <td>Ashley</td>\n",
       "      <td>Lopez</td>\n",
       "      <td>F</td>\n",
       "      <td>9333 Valentine Point</td>\n",
       "      <td>...</td>\n",
       "      <td>40.6729</td>\n",
       "      <td>-73.5365</td>\n",
       "      <td>34496</td>\n",
       "      <td>Librarian, public</td>\n",
       "      <td>1970-10-21</td>\n",
       "      <td>c81755dbbbea9d5c77f094348a7579be</td>\n",
       "      <td>1371816893</td>\n",
       "      <td>40.495810</td>\n",
       "      <td>-74.196111</td>\n",
       "      <td>0</td>\n",
       "    </tr>\n",
       "    <tr>\n",
       "      <th>3</th>\n",
       "      <td>3</td>\n",
       "      <td>2020-06-21 12:15:15</td>\n",
       "      <td>3591919803438423</td>\n",
       "      <td>fraud_Haley Group</td>\n",
       "      <td>misc_pos</td>\n",
       "      <td>60.05</td>\n",
       "      <td>Brian</td>\n",
       "      <td>Williams</td>\n",
       "      <td>M</td>\n",
       "      <td>32941 Krystal Mill Apt. 552</td>\n",
       "      <td>...</td>\n",
       "      <td>28.5697</td>\n",
       "      <td>-80.8191</td>\n",
       "      <td>54767</td>\n",
       "      <td>Set designer</td>\n",
       "      <td>1987-07-25</td>\n",
       "      <td>2159175b9efe66dc301f149d3d5abf8c</td>\n",
       "      <td>1371816915</td>\n",
       "      <td>28.812398</td>\n",
       "      <td>-80.883061</td>\n",
       "      <td>0</td>\n",
       "    </tr>\n",
       "    <tr>\n",
       "      <th>4</th>\n",
       "      <td>4</td>\n",
       "      <td>2020-06-21 12:15:17</td>\n",
       "      <td>3526826139003047</td>\n",
       "      <td>fraud_Johnston-Casper</td>\n",
       "      <td>travel</td>\n",
       "      <td>3.19</td>\n",
       "      <td>Nathan</td>\n",
       "      <td>Massey</td>\n",
       "      <td>M</td>\n",
       "      <td>5783 Evan Roads Apt. 465</td>\n",
       "      <td>...</td>\n",
       "      <td>44.2529</td>\n",
       "      <td>-85.0170</td>\n",
       "      <td>1126</td>\n",
       "      <td>Furniture designer</td>\n",
       "      <td>1955-07-06</td>\n",
       "      <td>57ff021bd3f328f8738bb535c302a31b</td>\n",
       "      <td>1371816917</td>\n",
       "      <td>44.959148</td>\n",
       "      <td>-85.884734</td>\n",
       "      <td>0</td>\n",
       "    </tr>\n",
       "  </tbody>\n",
       "</table>\n",
       "<p>5 rows × 23 columns</p>\n",
       "</div>"
      ],
      "text/plain": [
       "   Unnamed: 0 trans_date_trans_time            cc_num  \\\n",
       "0           0   2020-06-21 12:14:25  2291163933867244   \n",
       "1           1   2020-06-21 12:14:33  3573030041201292   \n",
       "2           2   2020-06-21 12:14:53  3598215285024754   \n",
       "3           3   2020-06-21 12:15:15  3591919803438423   \n",
       "4           4   2020-06-21 12:15:17  3526826139003047   \n",
       "\n",
       "                               merchant        category    amt   first  \\\n",
       "0                 fraud_Kirlin and Sons   personal_care   2.86    Jeff   \n",
       "1                  fraud_Sporer-Keebler   personal_care  29.84  Joanne   \n",
       "2  fraud_Swaniawski, Nitzsche and Welch  health_fitness  41.28  Ashley   \n",
       "3                     fraud_Haley Group        misc_pos  60.05   Brian   \n",
       "4                 fraud_Johnston-Casper          travel   3.19  Nathan   \n",
       "\n",
       "       last gender                       street  ...      lat      long  \\\n",
       "0   Elliott      M            351 Darlene Green  ...  33.9659  -80.9355   \n",
       "1  Williams      F             3638 Marsh Union  ...  40.3207 -110.4360   \n",
       "2     Lopez      F         9333 Valentine Point  ...  40.6729  -73.5365   \n",
       "3  Williams      M  32941 Krystal Mill Apt. 552  ...  28.5697  -80.8191   \n",
       "4    Massey      M     5783 Evan Roads Apt. 465  ...  44.2529  -85.0170   \n",
       "\n",
       "   city_pop                     job         dob  \\\n",
       "0    333497     Mechanical engineer  1968-03-19   \n",
       "1       302  Sales professional, IT  1990-01-17   \n",
       "2     34496       Librarian, public  1970-10-21   \n",
       "3     54767            Set designer  1987-07-25   \n",
       "4      1126      Furniture designer  1955-07-06   \n",
       "\n",
       "                          trans_num   unix_time  merch_lat  merch_long  \\\n",
       "0  2da90c7d74bd46a0caf3777415b3ebd3  1371816865  33.986391  -81.200714   \n",
       "1  324cc204407e99f51b0d6ca0055005e7  1371816873  39.450498 -109.960431   \n",
       "2  c81755dbbbea9d5c77f094348a7579be  1371816893  40.495810  -74.196111   \n",
       "3  2159175b9efe66dc301f149d3d5abf8c  1371816915  28.812398  -80.883061   \n",
       "4  57ff021bd3f328f8738bb535c302a31b  1371816917  44.959148  -85.884734   \n",
       "\n",
       "   is_fraud  \n",
       "0         0  \n",
       "1         0  \n",
       "2         0  \n",
       "3         0  \n",
       "4         0  \n",
       "\n",
       "[5 rows x 23 columns]"
      ]
     },
     "execution_count": 2,
     "metadata": {},
     "output_type": "execute_result"
    }
   ],
   "source": [
    "credit_card_data=pd.read_csv(\"fraudTest.csv.zip\")\n",
    "credit_card_data.head()"
   ]
  },
  {
   "cell_type": "code",
   "execution_count": 3,
   "id": "63e3dc90",
   "metadata": {},
   "outputs": [
    {
     "data": {
      "text/plain": [
       "(555719, 23)"
      ]
     },
     "execution_count": 3,
     "metadata": {},
     "output_type": "execute_result"
    }
   ],
   "source": [
    "credit_card_data.shape"
   ]
  },
  {
   "cell_type": "code",
   "execution_count": 4,
   "id": "1425c61e",
   "metadata": {},
   "outputs": [
    {
     "name": "stdout",
     "output_type": "stream",
     "text": [
      "<class 'pandas.core.frame.DataFrame'>\n",
      "RangeIndex: 555719 entries, 0 to 555718\n",
      "Data columns (total 23 columns):\n",
      " #   Column                 Non-Null Count   Dtype  \n",
      "---  ------                 --------------   -----  \n",
      " 0   Unnamed: 0             555719 non-null  int64  \n",
      " 1   trans_date_trans_time  555719 non-null  object \n",
      " 2   cc_num                 555719 non-null  int64  \n",
      " 3   merchant               555719 non-null  object \n",
      " 4   category               555719 non-null  object \n",
      " 5   amt                    555719 non-null  float64\n",
      " 6   first                  555719 non-null  object \n",
      " 7   last                   555719 non-null  object \n",
      " 8   gender                 555719 non-null  object \n",
      " 9   street                 555719 non-null  object \n",
      " 10  city                   555719 non-null  object \n",
      " 11  state                  555719 non-null  object \n",
      " 12  zip                    555719 non-null  int64  \n",
      " 13  lat                    555719 non-null  float64\n",
      " 14  long                   555719 non-null  float64\n",
      " 15  city_pop               555719 non-null  int64  \n",
      " 16  job                    555719 non-null  object \n",
      " 17  dob                    555719 non-null  object \n",
      " 18  trans_num              555719 non-null  object \n",
      " 19  unix_time              555719 non-null  int64  \n",
      " 20  merch_lat              555719 non-null  float64\n",
      " 21  merch_long             555719 non-null  float64\n",
      " 22  is_fraud               555719 non-null  int64  \n",
      "dtypes: float64(5), int64(6), object(12)\n",
      "memory usage: 97.5+ MB\n"
     ]
    }
   ],
   "source": [
    "credit_card_data.info()"
   ]
  },
  {
   "cell_type": "code",
   "execution_count": 5,
   "id": "10f728bc",
   "metadata": {},
   "outputs": [
    {
     "data": {
      "text/plain": [
       "Unnamed: 0               0\n",
       "trans_date_trans_time    0\n",
       "cc_num                   0\n",
       "merchant                 0\n",
       "category                 0\n",
       "amt                      0\n",
       "first                    0\n",
       "last                     0\n",
       "gender                   0\n",
       "street                   0\n",
       "city                     0\n",
       "state                    0\n",
       "zip                      0\n",
       "lat                      0\n",
       "long                     0\n",
       "city_pop                 0\n",
       "job                      0\n",
       "dob                      0\n",
       "trans_num                0\n",
       "unix_time                0\n",
       "merch_lat                0\n",
       "merch_long               0\n",
       "is_fraud                 0\n",
       "dtype: int64"
      ]
     },
     "execution_count": 5,
     "metadata": {},
     "output_type": "execute_result"
    }
   ],
   "source": [
    "credit_card_data.isna().sum()"
   ]
  },
  {
   "cell_type": "markdown",
   "id": "0f268b35",
   "metadata": {},
   "source": [
    "# <font color=green>Distribution of legit transaction  and  fraudulent transaction</font> \n",
    "credit_card_data['is_fraud'].value_counts() # 0 = Normal transaction,1= fraudulent transactions"
   ]
  },
  {
   "cell_type": "markdown",
   "id": "b27c4da1",
   "metadata": {},
   "source": [
    "THIS DATASET IS HIGHLY UNBALANCED"
   ]
  },
  {
   "cell_type": "code",
   "execution_count": 6,
   "id": "b4ea8e6b",
   "metadata": {},
   "outputs": [],
   "source": [
    "# separating the data for analysis\n",
    "legit= credit_card_data[credit_card_data.is_fraud==0]\n",
    "fraud= credit_card_data[credit_card_data.is_fraud==1]"
   ]
  },
  {
   "cell_type": "code",
   "execution_count": 7,
   "id": "b38bcc53",
   "metadata": {},
   "outputs": [
    {
     "name": "stdout",
     "output_type": "stream",
     "text": [
      "(553574, 23)\n",
      "(2145, 23)\n"
     ]
    }
   ],
   "source": [
    "print(legit.shape)\n",
    "print(fraud.shape)"
   ]
  },
  {
   "cell_type": "code",
   "execution_count": 8,
   "id": "b220f0cc",
   "metadata": {},
   "outputs": [
    {
     "data": {
      "text/plain": [
       "count    553574.000000\n",
       "mean         67.614408\n",
       "std         152.471931\n",
       "min           1.000000\n",
       "25%           9.600000\n",
       "50%          47.150000\n",
       "75%          82.620000\n",
       "max       22768.110000\n",
       "Name: amt, dtype: float64"
      ]
     },
     "execution_count": 8,
     "metadata": {},
     "output_type": "execute_result"
    }
   ],
   "source": [
    "# statistical measures of the data\n",
    "legit.amt.describe()"
   ]
  },
  {
   "cell_type": "code",
   "execution_count": 9,
   "id": "821c4e05",
   "metadata": {},
   "outputs": [
    {
     "data": {
      "text/plain": [
       "count    2145.000000\n",
       "mean      528.356494\n",
       "std       392.747594\n",
       "min         1.780000\n",
       "25%       214.510000\n",
       "50%       371.940000\n",
       "75%       907.770000\n",
       "max      1320.920000\n",
       "Name: amt, dtype: float64"
      ]
     },
     "execution_count": 9,
     "metadata": {},
     "output_type": "execute_result"
    }
   ],
   "source": [
    "fraud.amt.describe()"
   ]
  },
  {
   "cell_type": "code",
   "execution_count": 10,
   "id": "0db3f92c",
   "metadata": {},
   "outputs": [
    {
     "data": {
      "text/html": [
       "<div>\n",
       "<style scoped>\n",
       "    .dataframe tbody tr th:only-of-type {\n",
       "        vertical-align: middle;\n",
       "    }\n",
       "\n",
       "    .dataframe tbody tr th {\n",
       "        vertical-align: top;\n",
       "    }\n",
       "\n",
       "    .dataframe thead th {\n",
       "        text-align: right;\n",
       "    }\n",
       "</style>\n",
       "<table border=\"1\" class=\"dataframe\">\n",
       "  <thead>\n",
       "    <tr style=\"text-align: right;\">\n",
       "      <th></th>\n",
       "      <th>Unnamed: 0</th>\n",
       "      <th>cc_num</th>\n",
       "      <th>amt</th>\n",
       "      <th>zip</th>\n",
       "      <th>lat</th>\n",
       "      <th>long</th>\n",
       "      <th>city_pop</th>\n",
       "      <th>unix_time</th>\n",
       "      <th>merch_lat</th>\n",
       "      <th>merch_long</th>\n",
       "    </tr>\n",
       "    <tr>\n",
       "      <th>is_fraud</th>\n",
       "      <th></th>\n",
       "      <th></th>\n",
       "      <th></th>\n",
       "      <th></th>\n",
       "      <th></th>\n",
       "      <th></th>\n",
       "      <th></th>\n",
       "      <th></th>\n",
       "      <th></th>\n",
       "      <th></th>\n",
       "    </tr>\n",
       "  </thead>\n",
       "  <tbody>\n",
       "    <tr>\n",
       "      <th>0</th>\n",
       "      <td>277997.725990</td>\n",
       "      <td>4.179643e+17</td>\n",
       "      <td>67.614408</td>\n",
       "      <td>48846.424285</td>\n",
       "      <td>38.541406</td>\n",
       "      <td>-90.230495</td>\n",
       "      <td>88313.692365</td>\n",
       "      <td>1.380683e+09</td>\n",
       "      <td>38.540954</td>\n",
       "      <td>-90.230474</td>\n",
       "    </tr>\n",
       "    <tr>\n",
       "      <th>1</th>\n",
       "      <td>242057.088112</td>\n",
       "      <td>3.854274e+17</td>\n",
       "      <td>528.356494</td>\n",
       "      <td>47862.900233</td>\n",
       "      <td>39.019971</td>\n",
       "      <td>-90.445556</td>\n",
       "      <td>64529.321678</td>\n",
       "      <td>1.379587e+09</td>\n",
       "      <td>39.018618</td>\n",
       "      <td>-90.465222</td>\n",
       "    </tr>\n",
       "  </tbody>\n",
       "</table>\n",
       "</div>"
      ],
      "text/plain": [
       "             Unnamed: 0        cc_num         amt           zip        lat  \\\n",
       "is_fraud                                                                     \n",
       "0         277997.725990  4.179643e+17   67.614408  48846.424285  38.541406   \n",
       "1         242057.088112  3.854274e+17  528.356494  47862.900233  39.019971   \n",
       "\n",
       "               long      city_pop     unix_time  merch_lat  merch_long  \n",
       "is_fraud                                                                \n",
       "0        -90.230495  88313.692365  1.380683e+09  38.540954  -90.230474  \n",
       "1        -90.445556  64529.321678  1.379587e+09  39.018618  -90.465222  "
      ]
     },
     "execution_count": 10,
     "metadata": {},
     "output_type": "execute_result"
    }
   ],
   "source": [
    "# compare the values for both trabsaction\n",
    "credit_card_data.groupby('is_fraud').mean()"
   ]
  },
  {
   "cell_type": "markdown",
   "id": "bd85932e",
   "metadata": {},
   "source": [
    "# <font color=green>EDA</font>"
   ]
  },
  {
   "cell_type": "code",
   "execution_count": 11,
   "id": "33146a64",
   "metadata": {},
   "outputs": [
    {
     "data": {
      "text/plain": [
       "<AxesSubplot:xlabel='is_fraud', ylabel='count'>"
      ]
     },
     "execution_count": 11,
     "metadata": {},
     "output_type": "execute_result"
    },
    {
     "data": {
      "image/png": "[encoded data removed]",
      "text/plain": [
       "<Figure size 360x540 with 1 Axes>"
      ]
     },
     "metadata": {},
     "output_type": "display_data"
    }
   ],
   "source": [
    "import matplotlib.pyplot as plt\n",
    "import seaborn as sns\n",
    "plt.figure(figsize = (4,6), dpi = 90)\n",
    "sns.countplot(x = credit_card_data['is_fraud']) # NORMAL TRANSACTION IS MORE THAN FRAUD"
   ]
  },
  {
   "cell_type": "code",
   "execution_count": 12,
   "id": "d71f9fc0",
   "metadata": {},
   "outputs": [
    {
     "data": {
      "text/plain": [
       "<matplotlib.legend.Legend at 0x2a10a730b50>"
      ]
     },
     "execution_count": 12,
     "metadata": {},
     "output_type": "execute_result"
    },
    {
     "data": {
      "image/png": "[encoded data removed]",
      "text/plain": [
       "<Figure size 640x480 with 1 Axes>"
      ]
     },
     "metadata": {},
     "output_type": "display_data"
    }
   ],
   "source": [
    "#Gender vs Fraud\n",
    "ax=sns.histplot(x='gender',data=credit_card_data, hue='is_fraud',stat='percent',multiple='dodge',common_norm=False)\n",
    "ax.set_ylabel('Percentage')\n",
    "ax.set_xlabel('Credit Card Holder Gender')\n",
    "plt.legend(title='Type', labels=['Fraud', 'Not Fraud']) #almost equally susceptible (50%) to transaction fraud. Gender is not very indicative of a fraudulent transaction.\n"
   ]
  },
  {
   "cell_type": "code",
   "execution_count": 13,
   "id": "817fc701",
   "metadata": {},
   "outputs": [
    {
     "data": {
      "text/plain": [
       "Text(0.5, 1.0, 'The Percentage Difference of Fraudulent over Non-Fraudulent Transations in Each Spending Category ')"
      ]
     },
     "execution_count": 13,
     "metadata": {},
     "output_type": "execute_result"
    },
    {
     "data": {
      "image/png": "[encoded data removed]",
      "text/plain": [
       "<Figure size 640x480 with 1 Axes>"
      ]
     },
     "metadata": {},
     "output_type": "display_data"
    }
   ],
   "source": [
    "#calculate the percentage difference\n",
    "a=credit_card_data[credit_card_data['is_fraud']==0]['category'].value_counts(normalize=True).to_frame().reset_index()\n",
    "a.columns=['category','not fraud percentage']\n",
    "\n",
    "b=credit_card_data[credit_card_data['is_fraud']==1]['category'].value_counts(normalize=True).to_frame().reset_index()\n",
    "b.columns=['category','fraud percentage']\n",
    "ab=a.merge(b,on='category')\n",
    "ab['diff']=ab['fraud percentage']-ab['not fraud percentage']\n",
    "\n",
    "ax=sns.barplot(y='category',x='diff',data=ab.sort_values('diff',ascending=False))\n",
    "ax.set_xlabel('Percentage Difference')\n",
    "ax.set_ylabel('Transaction Category')\n",
    "plt.title('The Percentage Difference of Fraudulent over Non-Fraudulent Transations in Each Spending Category ')\n",
    "#Fraud tends to happen more often in 'Shopping_net', 'Grocery_pos', and 'misc_net' "
   ]
  },
  {
   "cell_type": "markdown",
   "id": "32b468f6",
   "metadata": {},
   "source": [
    "# <font color=green>Under sampling---build a sample dataset containing similar distribution of normal and fraudulent transaction</font>"
   ]
  },
  {
   "cell_type": "code",
   "execution_count": 14,
   "id": "0cea3a7c",
   "metadata": {},
   "outputs": [],
   "source": [
    "legit_sample=legit.sample(n= 2145)"
   ]
  },
  {
   "cell_type": "markdown",
   "id": "7cd9a3b5",
   "metadata": {},
   "source": [
    "# concatenating two data frame"
   ]
  },
  {
   "cell_type": "code",
   "execution_count": 15,
   "id": "d413e85c",
   "metadata": {},
   "outputs": [],
   "source": [
    "new_dataset=pd.concat([legit_sample,fraud],axis=0)"
   ]
  },
  {
   "cell_type": "code",
   "execution_count": 16,
   "id": "122d181c",
   "metadata": {},
   "outputs": [
    {
     "data": {
      "text/html": [
       "<div>\n",
       "<style scoped>\n",
       "    .dataframe tbody tr th:only-of-type {\n",
       "        vertical-align: middle;\n",
       "    }\n",
       "\n",
       "    .dataframe tbody tr th {\n",
       "        vertical-align: top;\n",
       "    }\n",
       "\n",
       "    .dataframe thead th {\n",
       "        text-align: right;\n",
       "    }\n",
       "</style>\n",
       "<table border=\"1\" class=\"dataframe\">\n",
       "  <thead>\n",
       "    <tr style=\"text-align: right;\">\n",
       "      <th></th>\n",
       "      <th>Unnamed: 0</th>\n",
       "      <th>trans_date_trans_time</th>\n",
       "      <th>cc_num</th>\n",
       "      <th>merchant</th>\n",
       "      <th>category</th>\n",
       "      <th>amt</th>\n",
       "      <th>first</th>\n",
       "      <th>last</th>\n",
       "      <th>gender</th>\n",
       "      <th>street</th>\n",
       "      <th>...</th>\n",
       "      <th>lat</th>\n",
       "      <th>long</th>\n",
       "      <th>city_pop</th>\n",
       "      <th>job</th>\n",
       "      <th>dob</th>\n",
       "      <th>trans_num</th>\n",
       "      <th>unix_time</th>\n",
       "      <th>merch_lat</th>\n",
       "      <th>merch_long</th>\n",
       "      <th>is_fraud</th>\n",
       "    </tr>\n",
       "  </thead>\n",
       "  <tbody>\n",
       "    <tr>\n",
       "      <th>250093</th>\n",
       "      <td>250093</td>\n",
       "      <td>2020-09-20 20:52:19</td>\n",
       "      <td>639023984367</td>\n",
       "      <td>fraud_Padberg-Sauer</td>\n",
       "      <td>home</td>\n",
       "      <td>69.67</td>\n",
       "      <td>Destiny</td>\n",
       "      <td>Lowe</td>\n",
       "      <td>F</td>\n",
       "      <td>79472 Stevens Trace Apt. 120</td>\n",
       "      <td>...</td>\n",
       "      <td>44.6087</td>\n",
       "      <td>-74.9732</td>\n",
       "      <td>69</td>\n",
       "      <td>Chief Executive Officer</td>\n",
       "      <td>1991-06-05</td>\n",
       "      <td>9ceef4c30b09de68f48f61764f1a515d</td>\n",
       "      <td>1379710339</td>\n",
       "      <td>44.905967</td>\n",
       "      <td>-75.641597</td>\n",
       "      <td>0</td>\n",
       "    </tr>\n",
       "    <tr>\n",
       "      <th>335190</th>\n",
       "      <td>335190</td>\n",
       "      <td>2020-10-27 14:40:15</td>\n",
       "      <td>3521417320836166</td>\n",
       "      <td>fraud_Streich, Dietrich and Barton</td>\n",
       "      <td>shopping_net</td>\n",
       "      <td>1.93</td>\n",
       "      <td>Angela</td>\n",
       "      <td>Hodges</td>\n",
       "      <td>F</td>\n",
       "      <td>08236 Kim Hill</td>\n",
       "      <td>...</td>\n",
       "      <td>39.8490</td>\n",
       "      <td>-86.2720</td>\n",
       "      <td>910148</td>\n",
       "      <td>Firefighter</td>\n",
       "      <td>1975-11-30</td>\n",
       "      <td>ad9ba9bbe0f28b1ae5a1c91b42944157</td>\n",
       "      <td>1382884815</td>\n",
       "      <td>40.332592</td>\n",
       "      <td>-85.601658</td>\n",
       "      <td>0</td>\n",
       "    </tr>\n",
       "    <tr>\n",
       "      <th>462804</th>\n",
       "      <td>462804</td>\n",
       "      <td>2020-12-11 15:37:54</td>\n",
       "      <td>3538520143479972</td>\n",
       "      <td>fraud_Goyette-Gerhold</td>\n",
       "      <td>kids_pets</td>\n",
       "      <td>7.06</td>\n",
       "      <td>Cassandra</td>\n",
       "      <td>Nunez</td>\n",
       "      <td>F</td>\n",
       "      <td>9572 Austin Forge Suite 612</td>\n",
       "      <td>...</td>\n",
       "      <td>41.5686</td>\n",
       "      <td>-83.3632</td>\n",
       "      <td>269</td>\n",
       "      <td>Insurance underwriter</td>\n",
       "      <td>1965-09-15</td>\n",
       "      <td>81660498b51d8eb9b5b2f6dacaa06de6</td>\n",
       "      <td>1386776274</td>\n",
       "      <td>41.721580</td>\n",
       "      <td>-84.043009</td>\n",
       "      <td>0</td>\n",
       "    </tr>\n",
       "    <tr>\n",
       "      <th>399026</th>\n",
       "      <td>399026</td>\n",
       "      <td>2020-11-24 16:23:07</td>\n",
       "      <td>4809701904914</td>\n",
       "      <td>fraud_Turner, Ziemann and Lehner</td>\n",
       "      <td>food_dining</td>\n",
       "      <td>24.20</td>\n",
       "      <td>Sabrina</td>\n",
       "      <td>Nolan</td>\n",
       "      <td>F</td>\n",
       "      <td>312 Eric Expressway Apt. 014</td>\n",
       "      <td>...</td>\n",
       "      <td>32.4204</td>\n",
       "      <td>-85.0796</td>\n",
       "      <td>59744</td>\n",
       "      <td>Chemical engineer</td>\n",
       "      <td>1984-02-07</td>\n",
       "      <td>0452df8166b98c4ef94b5bb1b9c4e1df</td>\n",
       "      <td>1385310187</td>\n",
       "      <td>32.852682</td>\n",
       "      <td>-84.449437</td>\n",
       "      <td>0</td>\n",
       "    </tr>\n",
       "    <tr>\n",
       "      <th>361470</th>\n",
       "      <td>361470</td>\n",
       "      <td>2020-11-08 19:33:02</td>\n",
       "      <td>4897067971111209737</td>\n",
       "      <td>fraud_Schmeler-Howe</td>\n",
       "      <td>personal_care</td>\n",
       "      <td>10.67</td>\n",
       "      <td>Randy</td>\n",
       "      <td>Wood</td>\n",
       "      <td>M</td>\n",
       "      <td>542 Howe Mission Apt. 092</td>\n",
       "      <td>...</td>\n",
       "      <td>28.3011</td>\n",
       "      <td>-82.6927</td>\n",
       "      <td>42619</td>\n",
       "      <td>Environmental education officer</td>\n",
       "      <td>1975-10-07</td>\n",
       "      <td>7d600762ffc20f2ddf61e47dcb27662d</td>\n",
       "      <td>1383939182</td>\n",
       "      <td>27.540105</td>\n",
       "      <td>-82.740452</td>\n",
       "      <td>0</td>\n",
       "    </tr>\n",
       "  </tbody>\n",
       "</table>\n",
       "<p>5 rows × 23 columns</p>\n",
       "</div>"
      ],
      "text/plain": [
       "        Unnamed: 0 trans_date_trans_time               cc_num  \\\n",
       "250093      250093   2020-09-20 20:52:19         639023984367   \n",
       "335190      335190   2020-10-27 14:40:15     3521417320836166   \n",
       "462804      462804   2020-12-11 15:37:54     3538520143479972   \n",
       "399026      399026   2020-11-24 16:23:07        4809701904914   \n",
       "361470      361470   2020-11-08 19:33:02  4897067971111209737   \n",
       "\n",
       "                                  merchant       category    amt      first  \\\n",
       "250093                 fraud_Padberg-Sauer           home  69.67    Destiny   \n",
       "335190  fraud_Streich, Dietrich and Barton   shopping_net   1.93     Angela   \n",
       "462804               fraud_Goyette-Gerhold      kids_pets   7.06  Cassandra   \n",
       "399026    fraud_Turner, Ziemann and Lehner    food_dining  24.20    Sabrina   \n",
       "361470                 fraud_Schmeler-Howe  personal_care  10.67      Randy   \n",
       "\n",
       "          last gender                        street  ...      lat     long  \\\n",
       "250093    Lowe      F  79472 Stevens Trace Apt. 120  ...  44.6087 -74.9732   \n",
       "335190  Hodges      F                08236 Kim Hill  ...  39.8490 -86.2720   \n",
       "462804   Nunez      F   9572 Austin Forge Suite 612  ...  41.5686 -83.3632   \n",
       "399026   Nolan      F  312 Eric Expressway Apt. 014  ...  32.4204 -85.0796   \n",
       "361470    Wood      M     542 Howe Mission Apt. 092  ...  28.3011 -82.6927   \n",
       "\n",
       "        city_pop                              job         dob  \\\n",
       "250093        69          Chief Executive Officer  1991-06-05   \n",
       "335190    910148                      Firefighter  1975-11-30   \n",
       "462804       269            Insurance underwriter  1965-09-15   \n",
       "399026     59744                Chemical engineer  1984-02-07   \n",
       "361470     42619  Environmental education officer  1975-10-07   \n",
       "\n",
       "                               trans_num   unix_time  merch_lat merch_long  \\\n",
       "250093  9ceef4c30b09de68f48f61764f1a515d  1379710339  44.905967 -75.641597   \n",
       "335190  ad9ba9bbe0f28b1ae5a1c91b42944157  1382884815  40.332592 -85.601658   \n",
       "462804  81660498b51d8eb9b5b2f6dacaa06de6  1386776274  41.721580 -84.043009   \n",
       "399026  0452df8166b98c4ef94b5bb1b9c4e1df  1385310187  32.852682 -84.449437   \n",
       "361470  7d600762ffc20f2ddf61e47dcb27662d  1383939182  27.540105 -82.740452   \n",
       "\n",
       "        is_fraud  \n",
       "250093         0  \n",
       "335190         0  \n",
       "462804         0  \n",
       "399026         0  \n",
       "361470         0  \n",
       "\n",
       "[5 rows x 23 columns]"
      ]
     },
     "execution_count": 16,
     "metadata": {},
     "output_type": "execute_result"
    }
   ],
   "source": [
    "new_dataset.head()"
   ]
  },
  {
   "cell_type": "code",
   "execution_count": 17,
   "id": "e03c1215",
   "metadata": {},
   "outputs": [
    {
     "data": {
      "text/plain": [
       "0    2145\n",
       "1    2145\n",
       "Name: is_fraud, dtype: int64"
      ]
     },
     "execution_count": 17,
     "metadata": {},
     "output_type": "execute_result"
    }
   ],
   "source": [
    "new_dataset['is_fraud'].value_counts()"
   ]
  },
  {
   "cell_type": "code",
   "execution_count": 18,
   "id": "7ce10b7c",
   "metadata": {},
   "outputs": [
    {
     "data": {
      "text/html": [
       "<div>\n",
       "<style scoped>\n",
       "    .dataframe tbody tr th:only-of-type {\n",
       "        vertical-align: middle;\n",
       "    }\n",
       "\n",
       "    .dataframe tbody tr th {\n",
       "        vertical-align: top;\n",
       "    }\n",
       "\n",
       "    .dataframe thead th {\n",
       "        text-align: right;\n",
       "    }\n",
       "</style>\n",
       "<table border=\"1\" class=\"dataframe\">\n",
       "  <thead>\n",
       "    <tr style=\"text-align: right;\">\n",
       "      <th></th>\n",
       "      <th>Unnamed: 0</th>\n",
       "      <th>cc_num</th>\n",
       "      <th>amt</th>\n",
       "      <th>zip</th>\n",
       "      <th>lat</th>\n",
       "      <th>long</th>\n",
       "      <th>city_pop</th>\n",
       "      <th>unix_time</th>\n",
       "      <th>merch_lat</th>\n",
       "      <th>merch_long</th>\n",
       "    </tr>\n",
       "    <tr>\n",
       "      <th>is_fraud</th>\n",
       "      <th></th>\n",
       "      <th></th>\n",
       "      <th></th>\n",
       "      <th></th>\n",
       "      <th></th>\n",
       "      <th></th>\n",
       "      <th></th>\n",
       "      <th></th>\n",
       "      <th></th>\n",
       "      <th></th>\n",
       "    </tr>\n",
       "  </thead>\n",
       "  <tbody>\n",
       "    <tr>\n",
       "      <th>0</th>\n",
       "      <td>280725.577156</td>\n",
       "      <td>4.023195e+17</td>\n",
       "      <td>61.291720</td>\n",
       "      <td>47777.547786</td>\n",
       "      <td>38.459373</td>\n",
       "      <td>-89.413030</td>\n",
       "      <td>91241.371562</td>\n",
       "      <td>1.380755e+09</td>\n",
       "      <td>38.459083</td>\n",
       "      <td>-89.419229</td>\n",
       "    </tr>\n",
       "    <tr>\n",
       "      <th>1</th>\n",
       "      <td>242057.088112</td>\n",
       "      <td>3.854274e+17</td>\n",
       "      <td>528.356494</td>\n",
       "      <td>47862.900233</td>\n",
       "      <td>39.019971</td>\n",
       "      <td>-90.445556</td>\n",
       "      <td>64529.321678</td>\n",
       "      <td>1.379587e+09</td>\n",
       "      <td>39.018618</td>\n",
       "      <td>-90.465222</td>\n",
       "    </tr>\n",
       "  </tbody>\n",
       "</table>\n",
       "</div>"
      ],
      "text/plain": [
       "             Unnamed: 0        cc_num         amt           zip        lat  \\\n",
       "is_fraud                                                                     \n",
       "0         280725.577156  4.023195e+17   61.291720  47777.547786  38.459373   \n",
       "1         242057.088112  3.854274e+17  528.356494  47862.900233  39.019971   \n",
       "\n",
       "               long      city_pop     unix_time  merch_lat  merch_long  \n",
       "is_fraud                                                                \n",
       "0        -89.413030  91241.371562  1.380755e+09  38.459083  -89.419229  \n",
       "1        -90.445556  64529.321678  1.379587e+09  39.018618  -90.465222  "
      ]
     },
     "execution_count": 18,
     "metadata": {},
     "output_type": "execute_result"
    }
   ],
   "source": [
    "new_dataset.groupby('is_fraud').mean()"
   ]
  },
  {
   "cell_type": "markdown",
   "id": "5f1e742a",
   "metadata": {},
   "source": [
    "# Splitting  data into features and target"
   ]
  },
  {
   "cell_type": "code",
   "execution_count": 19,
   "id": "03fa6a06",
   "metadata": {},
   "outputs": [],
   "source": [
    "x=new_dataset.drop(columns='is_fraud',axis=1)\n",
    "y=new_dataset['is_fraud']"
   ]
  },
  {
   "cell_type": "code",
   "execution_count": 20,
   "id": "3cf8b17c",
   "metadata": {},
   "outputs": [],
   "source": [
    "# Encoding the categorical columns\n",
    "from sklearn.preprocessing import OrdinalEncoder\n",
    "cols = ['trans_date_trans_time', 'merchant', 'category', 'first', 'last',\n",
    "        'gender', 'street', 'city', 'state', 'job', 'dob', 'trans_num']\n",
    "encoder = OrdinalEncoder()\n",
    "x[cols] = encoder.fit_transform(x[cols])"
   ]
  },
  {
   "cell_type": "code",
   "execution_count": 21,
   "id": "21d7eb70",
   "metadata": {},
   "outputs": [],
   "source": [
    "# Scaling\n",
    "from sklearn.preprocessing import MinMaxScaler\n",
    "scaler = MinMaxScaler()\n",
    "x = scaler.fit_transform(x)"
   ]
  },
  {
   "cell_type": "code",
   "execution_count": null,
   "id": "22e74787",
   "metadata": {},
   "outputs": [],
   "source": []
  },
  {
   "cell_type": "markdown",
   "id": "1c46a422",
   "metadata": {},
   "source": [
    "# split the data into training and testing data"
   ]
  },
  {
   "cell_type": "code",
   "execution_count": 22,
   "id": "273e37f0",
   "metadata": {},
   "outputs": [],
   "source": [
    "x_train,x_test,y_train,y_test=train_test_split(x,y,test_size=0.2,stratify=y,random_state=2)"
   ]
  },
  {
   "cell_type": "code",
   "execution_count": 23,
   "id": "6471feb7",
   "metadata": {},
   "outputs": [
    {
     "name": "stdout",
     "output_type": "stream",
     "text": [
      "(4290, 22) (3432, 22) (858, 22)\n"
     ]
    }
   ],
   "source": [
    "print(x.shape,x_train.shape,x_test.shape)"
   ]
  },
  {
   "cell_type": "markdown",
   "id": "b9827f98",
   "metadata": {},
   "source": [
    "# Model Training\n",
    "Logistic regression"
   ]
  },
  {
   "cell_type": "code",
   "execution_count": 24,
   "id": "77b8204d",
   "metadata": {},
   "outputs": [],
   "source": [
    "model=LogisticRegression()"
   ]
  },
  {
   "cell_type": "markdown",
   "id": "e2c2d941",
   "metadata": {},
   "source": [
    "# Training the logistic regression model with training data"
   ]
  },
  {
   "cell_type": "code",
   "execution_count": 25,
   "id": "9a379250",
   "metadata": {},
   "outputs": [
    {
     "data": {
      "text/plain": [
       "LogisticRegression()"
      ]
     },
     "execution_count": 25,
     "metadata": {},
     "output_type": "execute_result"
    }
   ],
   "source": [
    "model.fit(x_train,y_train)"
   ]
  },
  {
   "cell_type": "markdown",
   "id": "67f91cd5",
   "metadata": {},
   "source": [
    "# Model evaluation---accuracy score"
   ]
  },
  {
   "cell_type": "code",
   "execution_count": 26,
   "id": "9e34aedd",
   "metadata": {},
   "outputs": [],
   "source": [
    "#accuracy on training data\n",
    "x_train_prediction=model.predict(x_train)\n",
    "training_data_accuracy=accuracy_score(x_train_prediction,y_train)"
   ]
  },
  {
   "cell_type": "code",
   "execution_count": 27,
   "id": "db08a9d3",
   "metadata": {},
   "outputs": [
    {
     "name": "stdout",
     "output_type": "stream",
     "text": [
      "Accuracy on Training data: 0.8426573426573427\n"
     ]
    }
   ],
   "source": [
    "print('Accuracy on Training data:',training_data_accuracy)"
   ]
  },
  {
   "cell_type": "code",
   "execution_count": 28,
   "id": "14a7a709",
   "metadata": {},
   "outputs": [
    {
     "name": "stdout",
     "output_type": "stream",
     "text": [
      "Accuracy on Test data: 0.8344988344988346\n"
     ]
    }
   ],
   "source": [
    "#accuracy on test data\n",
    "x_test_prediction=model.predict(x_test)\n",
    "test_data_accuracy=accuracy_score(x_test_prediction,y_test)\n",
    "print('Accuracy on Test data:',test_data_accuracy)"
   ]
  },
  {
   "cell_type": "code",
   "execution_count": null,
   "id": "d4bb07e2",
   "metadata": {},
   "outputs": [],
   "source": []
  }
 ],
 "metadata": {
  "kernelspec": {
   "display_name": "Python 3 (ipykernel)",
   "language": "python",
   "name": "python3"
  },
  "language_info": {
   "codemirror_mode": {
    "name": "ipython",
    "version": 3
   },
   "file_extension": ".py",
   "mimetype": "text/x-python",
   "name": "python",
   "nbconvert_exporter": "python",
   "pygments_lexer": "ipython3",
   "version": "3.9.13"
  }
 },
 "nbformat": 4,
 "nbformat_minor": 5
}
